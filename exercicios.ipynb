{
 "cells": [
  {
   "attachments": {},
   "cell_type": "markdown",
   "metadata": {},
   "source": [
    "Dada uma lista de números reais, faça um mapeamento para obter uma lista de inteiros tal que:\n",
    "\n",
    "- Se o valor decimal for par, obtenha um número inteiro que seja o maior inteiro menor que o número real em análise\n",
    "\n",
    "- Se o valor decimal for ímpar, obtenha um número inteiro que seja o menor inteiro maior que o número real em análise\n"
   ]
  },
  {
   "cell_type": "code",
   "execution_count": null,
   "metadata": {},
   "outputs": [],
   "source": [
    "import math as m\n"
   ]
  }
 ],
 "metadata": {
  "language_info": {
   "name": "python"
  },
  "orig_nbformat": 4
 },
 "nbformat": 4,
 "nbformat_minor": 2
}
