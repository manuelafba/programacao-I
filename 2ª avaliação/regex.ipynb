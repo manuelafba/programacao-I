{
 "cells": [
  {
   "cell_type": "markdown",
   "id": "4a6e1022",
   "metadata": {},
   "source": [
    "## Expressão Regular"
   ]
  },
  {
   "cell_type": "markdown",
   "id": "ed99a422",
   "metadata": {},
   "source": [
    "<p style=\"font-size: 16px; text-style: jutifying;\">Expressão regular são utilizadas para construir reconhecedores de Linguages Regulares. Ao construir um reconhecedor de Liguagem Regular, podemos encontrar todas as palavras que pertencem a linguagem e realizar a computação desejada sobre elas.</p>"
   ]
  },
  {
   "cell_type": "markdown",
   "id": "9bf0e0b6",
   "metadata": {},
   "source": [
    "## Principais funções "
   ]
  },
  {
   "cell_type": "markdown",
   "id": "13ba3ed8",
   "metadata": {},
   "source": [
    "* ### sub: realiza a substituição de toda ocorrência que der match com a regex\n",
    "* ### findall: retorna uma lista com toda sbstring que der match com a regex\n",
    "* ### search: retorna um objeto Match com a primeira substring que der match com a regex\n",
    "* ### match: retorna um objeto Match com a primeira subtring que der match com a regex, a partir do início\n",
    "* ### fullmatch: retorna um objeto Match, se a string toda der match com a regex\n",
    "* ### split: retorna uma lista de string, tendo como critério  de quebra o match da regex\n",
    "* ### finditer: retorna um iterável de objetos Match, de toda substring que der match com a regex"
   ]
  },
  {
   "cell_type": "markdown",
   "id": "45cb1346",
   "metadata": {},
   "source": [
    "## Principais caracteres especiais "
   ]
  },
  {
   "cell_type": "markdown",
   "id": "0e050363",
   "metadata": {},
   "source": [
    "| Caracter | Descrição                              |\n",
    "|----------|----------------------------------------|\n",
    "| []       | conjunto                               |\n",
    "| [^]      | negação do conjunto                    |\n",
    "| .        | qualquer caractere                     |\n",
    "| ^        | começa com                             |\n",
    "| $        | termina com                            |\n",
    "| *        | zero ou mais ocorrências               |\n",
    "| +        | uma ou mais ocorrências                |\n",
    "| ?        | zero ou uma ocorrência                 |\n",
    "| {n}      | exatamente n ocorrências               |\n",
    "| {n,k}    | no mínimo n e no máximo k ocorrências  |\n",
    "| {n,}     | pelo menos n ocorrências               |\n",
    "| {,k}     | no máximo k ocorrências                |\n",
    "| \\|       | ou                                     |\n",
    "| (?=)     | match prefixo                          |\n",
    "| (?<=)    | match sufixo                           |"
   ]
  },
  {
   "cell_type": "markdown",
   "id": "813a9dfc",
   "metadata": {},
   "source": [
    "## Exemplo 1: Escreva um programa que substitua todos os dígitos por _"
   ]
  },
  {
   "cell_type": "code",
   "execution_count": 22,
   "id": "0ac310f6",
   "metadata": {},
   "outputs": [
    {
     "name": "stdout",
     "output_type": "stream",
     "text": [
      "_____ Renato _\n"
     ]
    }
   ],
   "source": [
    "import re\n",
    "msg = \"93456 Renato 5\"\n",
    "regex = re.compile(r\"[0-9]\")\n",
    "saida = regex.sub(\"_\", msg)\n",
    "print(saida)"
   ]
  },
  {
   "cell_type": "code",
   "execution_count": 23,
   "id": "65197860",
   "metadata": {},
   "outputs": [
    {
     "name": "stdout",
     "output_type": "stream",
     "text": [
      "_ Renato _\n"
     ]
    }
   ],
   "source": [
    "import re\n",
    "msg = \"93456 Renato 5\"\n",
    "regex = re.compile(r\"[0-9]+\")\n",
    "saida = regex.sub(\"_\", msg)\n",
    "print(saida)"
   ]
  },
  {
   "cell_type": "code",
   "execution_count": 24,
   "id": "f6036254",
   "metadata": {},
   "outputs": [
    {
     "name": "stdout",
     "output_type": "stream",
     "text": [
      "_ Renato _\n"
     ]
    }
   ],
   "source": [
    "import re\n",
    "msg = \"93456 Renato 5\"\n",
    "regex = re.compile(r\"\\d+\")\n",
    "saida = regex.sub(\"_\", msg)\n",
    "print(saida)"
   ]
  },
  {
   "cell_type": "code",
   "execution_count": 286,
   "id": "28476d02",
   "metadata": {},
   "outputs": [
    {
     "name": "stdout",
     "output_type": "stream",
     "text": [
      "_ Renato _\n"
     ]
    }
   ],
   "source": [
    "import re\n",
    "msg = \"93456 Renato 5\"\n",
    "saida = re.sub(r\"\\d+\", \"_\", msg)\n",
    "print(saida)"
   ]
  },
  {
   "cell_type": "markdown",
   "id": "bed2ad87",
   "metadata": {},
   "source": [
    "## Exemplo 2: Escreva um programa que substitua tudo o que não for dígito por _"
   ]
  },
  {
   "cell_type": "code",
   "execution_count": 25,
   "id": "6cb5db69",
   "metadata": {},
   "outputs": [
    {
     "name": "stdout",
     "output_type": "stream",
     "text": [
      "93456________5\n"
     ]
    }
   ],
   "source": [
    "import re\n",
    "msg = \"93456 Renato 5\"\n",
    "regex = re.compile(r\"\\D\")\n",
    "saida = regex.sub(\"_\", msg)\n",
    "print(saida)"
   ]
  },
  {
   "cell_type": "code",
   "execution_count": 26,
   "id": "8087b351",
   "metadata": {},
   "outputs": [
    {
     "name": "stdout",
     "output_type": "stream",
     "text": [
      "93456_5\n"
     ]
    }
   ],
   "source": [
    "import re\n",
    "msg = \"93456 Renato 5\"\n",
    "regex = re.compile(r\"\\D+\")\n",
    "saida = regex.sub(\"_\", msg)\n",
    "print(saida)"
   ]
  },
  {
   "cell_type": "code",
   "execution_count": 27,
   "id": "2f4c51ef",
   "metadata": {},
   "outputs": [
    {
     "name": "stdout",
     "output_type": "stream",
     "text": [
      "93456_5\n"
     ]
    }
   ],
   "source": [
    "import re\n",
    "msg = \"93456 Renato 5\"\n",
    "regex = re.compile(r\"[^0-9]+\")\n",
    "saida = regex.sub(\"_\", msg)\n",
    "print(saida)"
   ]
  },
  {
   "cell_type": "code",
   "execution_count": 288,
   "id": "a080fdb4",
   "metadata": {},
   "outputs": [
    {
     "name": "stdout",
     "output_type": "stream",
     "text": [
      "93456_5\n"
     ]
    }
   ],
   "source": [
    "import re\n",
    "msg = \"93456 Renato 5\"\n",
    "saida = re.sub(r\"[^0-9]+\", \"_\", msg)\n",
    "print(saida)"
   ]
  },
  {
   "cell_type": "markdown",
   "id": "0db256a2",
   "metadata": {},
   "source": [
    "## findall"
   ]
  },
  {
   "cell_type": "markdown",
   "id": "a57b7878",
   "metadata": {},
   "source": [
    "## Exemplo 3: Escreva um programa para encontrar todos os dígitos e armazenar em uma lita"
   ]
  },
  {
   "cell_type": "code",
   "execution_count": 29,
   "id": "21679cbc",
   "metadata": {},
   "outputs": [
    {
     "name": "stdout",
     "output_type": "stream",
     "text": [
      "['9', '3', '4', '5', '6', '5']\n"
     ]
    }
   ],
   "source": [
    "import re\n",
    "msg = \"93456 Renato 5\"\n",
    "regex = re.compile(r\"[0-9]\")\n",
    "saida = regex.findall(msg)\n",
    "print(saida)"
   ]
  },
  {
   "cell_type": "code",
   "execution_count": 30,
   "id": "ea5b7979",
   "metadata": {},
   "outputs": [
    {
     "name": "stdout",
     "output_type": "stream",
     "text": [
      "['93456', '5']\n"
     ]
    }
   ],
   "source": [
    "import re\n",
    "msg = \"93456 Renato 5\"\n",
    "regex = re.compile(r\"[0-9]+\")\n",
    "saida = regex.findall(msg)\n",
    "print(saida)"
   ]
  },
  {
   "cell_type": "markdown",
   "id": "53d95d29",
   "metadata": {},
   "source": [
    "## Exemplo 4: Escreva um progrma para verificar se a string começa com letra maiúscula"
   ]
  },
  {
   "cell_type": "code",
   "execution_count": 289,
   "id": "3cee757a",
   "metadata": {},
   "outputs": [
    {
     "name": "stdout",
     "output_type": "stream",
     "text": [
      "<re.Match object; span=(0, 1), match='R'>\n"
     ]
    }
   ],
   "source": [
    "import re\n",
    "msg = \"Renato 5\"\n",
    "regex = re.compile(r\"^[A-Z]\")\n",
    "saida = regex.match(msg)\n",
    "print(saida)"
   ]
  },
  {
   "cell_type": "markdown",
   "id": "2739fce8",
   "metadata": {},
   "source": [
    "## Exemplo 5: Escreva um programa para verificar se a string termina com ponto"
   ]
  },
  {
   "cell_type": "code",
   "execution_count": 290,
   "id": "f40263d1",
   "metadata": {},
   "outputs": [
    {
     "name": "stdout",
     "output_type": "stream",
     "text": [
      "<re.Match object; span=(0, 9), match='Renato 5.'>\n"
     ]
    }
   ],
   "source": [
    "import re\n",
    "msg = \"Renato 5.\"\n",
    "regex = re.compile(r\".*\\.$\")\n",
    "saida = regex.match(msg)\n",
    "print(saida)"
   ]
  },
  {
   "cell_type": "code",
   "execution_count": 291,
   "id": "90e1e615",
   "metadata": {},
   "outputs": [
    {
     "name": "stdout",
     "output_type": "stream",
     "text": [
      "<re.Match object; span=(8, 9), match='.'>\n"
     ]
    }
   ],
   "source": [
    "import re\n",
    "msg = \"Renato 5.\"\n",
    "regex = re.compile(r\"\\.$\")\n",
    "saida = regex.search(msg)\n",
    "print(saida)"
   ]
  },
  {
   "cell_type": "markdown",
   "id": "e6188a28",
   "metadata": {},
   "source": [
    "## Acessando os índices"
   ]
  },
  {
   "cell_type": "code",
   "execution_count": 104,
   "id": "b3486af9",
   "metadata": {},
   "outputs": [
    {
     "name": "stdout",
     "output_type": "stream",
     "text": [
      "(8, 9)\n"
     ]
    }
   ],
   "source": [
    "import re\n",
    "msg = \"Renato 5.\"\n",
    "regex = re.compile(r\"\\.$\")\n",
    "saida = regex.search(msg)\n",
    "print(saida.span())"
   ]
  },
  {
   "cell_type": "markdown",
   "id": "b7d0150b",
   "metadata": {},
   "source": [
    "## Acessando o valor"
   ]
  },
  {
   "cell_type": "code",
   "execution_count": 130,
   "id": "ce44f03c",
   "metadata": {},
   "outputs": [
    {
     "name": "stdout",
     "output_type": "stream",
     "text": [
      "?\n"
     ]
    }
   ],
   "source": [
    "import re\n",
    "msg = \"Renato 5?\"\n",
    "regex = re.compile(r\"[.!,?;]$\")\n",
    "saida = regex.search(msg)\n",
    "print(saida.group())"
   ]
  },
  {
   "cell_type": "markdown",
   "id": "1d30133b",
   "metadata": {},
   "source": [
    "## Exemplo 6: Escreva um programa para gerar um lista de tokens a cada espaço, vírgula ou pontuação encontrada"
   ]
  },
  {
   "cell_type": "code",
   "execution_count": 135,
   "id": "71b3a031",
   "metadata": {},
   "outputs": [
    {
     "name": "stdout",
     "output_type": "stream",
     "text": [
      "['Olá', '', 'me', 'chamo', 'Renato', '', 'E', 'você', '', 'como', 'se', 'chama', '']\n"
     ]
    }
   ],
   "source": [
    "import re\n",
    "msg = \"Olá, me chamo Renato. E você, como se chama?\"\n",
    "regex = re.compile(r\"[\\s.!?,]\")\n",
    "saida = regex.split(msg)\n",
    "print(saida)"
   ]
  },
  {
   "cell_type": "markdown",
   "id": "f6db4a1e",
   "metadata": {},
   "source": [
    "## Exemplo 7: Escreva um programa para encontrar a posição de todas a palavras com letra maiúscula"
   ]
  },
  {
   "cell_type": "code",
   "execution_count": 292,
   "id": "2ffadd56",
   "metadata": {},
   "outputs": [
    {
     "name": "stdout",
     "output_type": "stream",
     "text": [
      "<re.Match object; span=(0, 3), match='Olá'>\n",
      "<re.Match object; span=(14, 20), match='Renato'>\n",
      "<re.Match object; span=(22, 23), match='E'>\n"
     ]
    }
   ],
   "source": [
    "import re\n",
    "msg = \"Olá, me chamo Renato. E você, como se chama?\"\n",
    "regex = re.compile(r\"\\b[A-Z]\\w*\")\n",
    "for item in regex.finditer(msg):\n",
    "    print(item)"
   ]
  },
  {
   "cell_type": "markdown",
   "id": "58137707",
   "metadata": {},
   "source": [
    "## Exemplo 8: Escreva um programa para verificar se a string contém somente letras minúsculas ou espaço"
   ]
  },
  {
   "cell_type": "code",
   "execution_count": 150,
   "id": "6be3e092",
   "metadata": {},
   "outputs": [
    {
     "name": "stdout",
     "output_type": "stream",
     "text": [
      "<re.Match object; span=(0, 13), match='renato hidaka'>\n"
     ]
    }
   ],
   "source": [
    "import re\n",
    "msg = \"renato hidaka\"\n",
    "regex = re.compile(r\"[a-z\\s]+\")\n",
    "saida = regex.fullmatch(msg)\n",
    "print(saida)"
   ]
  },
  {
   "cell_type": "markdown",
   "id": "7f6c8540",
   "metadata": {},
   "source": [
    "## Exemplo 9: Escreva um programa para verificar se a string possui ao menos uma letra amiúscula, uma minúscula, um dígito, um caracter especial e no mínimo 8 caracteres"
   ]
  },
  {
   "cell_type": "code",
   "execution_count": 293,
   "id": "a360da68",
   "metadata": {},
   "outputs": [
    {
     "name": "stdout",
     "output_type": "stream",
     "text": [
      "ok\n"
     ]
    }
   ],
   "source": [
    "import re\n",
    "msg = \"Aa2@dsdsdsa!sa\"\n",
    "\n",
    "\n",
    "saida = len(msg) >= 8 and\\\n",
    "        re.search(r\"[0-9]\", msg) and\\\n",
    "        re.search(r\"[a-z]\", msg) and\\\n",
    "        re.search(r\"[A-Z]\", msg) and\\\n",
    "        re.search(r\"[!@#$%&*+=]\", msg)\n",
    "        \n",
    "if saida:\n",
    "    print(\"ok\")\n",
    "else:\n",
    "    print(\"fail\")\n"
   ]
  },
  {
   "cell_type": "markdown",
   "id": "9f253df7",
   "metadata": {},
   "source": [
    "## Exemplo 10: Escreva um programa para encontrar um padrão de telefone precedido pela palavra telefone ou tel"
   ]
  },
  {
   "cell_type": "markdown",
   "id": "4469104b",
   "metadata": {},
   "source": [
    "import re\n",
    "msg = \"99 telefone 99 99269-9999\"\n",
    "saida = re.search(r\"(?<=tel )\\d{2} \\d{5}-\\d{4}|(?<=telefone )\\d{2} \\d{5}-\\d{4}\", msg)\n",
    "print(saida)\\d{2} \\d{5}-\\d{4}"
   ]
  },
  {
   "cell_type": "code",
   "execution_count": 241,
   "id": "dd1a7572",
   "metadata": {},
   "outputs": [
    {
     "name": "stdout",
     "output_type": "stream",
     "text": [
      "<re.Match object; span=(12, 25), match='99 99269-9999'>\n"
     ]
    }
   ],
   "source": [
    "import re\n",
    "msg = \"99 telefone 99 99269-9999\"\n",
    "saida = re.search(r\"(?<=tel )\\d{2} \\d{5}-\\d{4}\", msg) or\\\n",
    "        re.search(r\"(?<=telefone )\\d{2} \\d{5}-\\d{4}\", msg)\n",
    "print(saida)"
   ]
  },
  {
   "cell_type": "markdown",
   "id": "0c58c3a4",
   "metadata": {},
   "source": [
    "## Exemplo 11: Escreva um programa para encontrar uma  palavra sucedida pela palavra onde."
   ]
  },
  {
   "cell_type": "code",
   "execution_count": 305,
   "id": "56a148a7",
   "metadata": {},
   "outputs": [
    {
     "name": "stdout",
     "output_type": "stream",
     "text": [
      "<re.Match object; span=(9, 17), match='telefone'>\n"
     ]
    }
   ],
   "source": [
    "import re\n",
    "msg = \" 9 outro telefone onde te8\"\n",
    "saida = re.search(r\"\\w+(?=\\sonde)\", msg)\n",
    "print(saida)"
   ]
  },
  {
   "cell_type": "markdown",
   "id": "8c071d4d",
   "metadata": {},
   "source": [
    "## Exercício"
   ]
  },
  {
   "cell_type": "markdown",
   "id": "5d25d17c",
   "metadata": {},
   "source": [
    "## 1- Escreva um programa para reconhecer as strings que sejam sequências de letras A e de tamanho par."
   ]
  },
  {
   "cell_type": "markdown",
   "id": "fdcb7dbf",
   "metadata": {},
   "source": [
    "## 2- Escreva um programa para remover de uma string tudo o que não for espaço ou letra."
   ]
  },
  {
   "cell_type": "markdown",
   "id": "38711e15",
   "metadata": {},
   "source": [
    "## 3- Escreva um programa para classificar senhas, tal que:\n",
    "\n",
    "* ### muito forte: senha com no nínimo 10 caracteres, contendo letra maiúscula, minúscula, dígito e pelo menos três caracteres especiais.\n",
    "* ### forte: senha com no mínomo 8 caracteres, contendo letra maiúscula, minúscula, dígito e caracteres especiais.\n",
    "* ### média: senha com no mínomo 6 caracteres, contendo pelo menos letra maiúscula, minúscula e dígito.\n",
    "* ### fraca: senha com no mínimo 6 caracteres que não seja senha classificada com força média.\n",
    "* ### inválida: toda senha que não é fraca."
   ]
  },
  {
   "cell_type": "markdown",
   "id": "b0181ead",
   "metadata": {},
   "source": [
    "## 4- Escreva um programa para encontrar todas as ocorrências de telefones celulares que tenha ou não ddd especificado e que usem ou não hífen."
   ]
  },
  {
   "cell_type": "markdown",
   "id": "dfcffe6c",
   "metadata": {},
   "source": [
    "## 5- Escreva um programa para reconhecer uma string contendo somente zeros e uns e que tenha pelo menos três ocorrências do dígito um."
   ]
  },
  {
   "cell_type": "markdown",
   "id": "388b96e0",
   "metadata": {},
   "source": [
    "## 6- Escreva um programa para reconehcer uma string contendo somente zeros e uns e que não tenha dois uns consecutivos."
   ]
  },
  {
   "cell_type": "markdown",
   "id": "6004d9e8",
   "metadata": {},
   "source": [
    "## 7- Escreva um programa para informar o índice inicial e final de todas as substring que tenham o prefixo R$"
   ]
  },
  {
   "cell_type": "markdown",
   "id": "dd83b854",
   "metadata": {},
   "source": [
    "## 8- Escreva um programa para informar se uma string representa uma expressão aritmética válida que contenha somente os operadores + - * e /, e que as operações sejam realizados somenet com números inteiros."
   ]
  },
  {
   "cell_type": "markdown",
   "id": "0bfd943a",
   "metadata": {},
   "source": [
    "## 9- Escreva um programa para encontrar todas as ocorrências de plavras que inicie com letra maiúscula."
   ]
  },
  {
   "cell_type": "markdown",
   "id": "2ec21b13",
   "metadata": {},
   "source": [
    "## 10- Escreva um programa para reconhecer uma string contendo somente as letras A C T G e que as substrings AC ou TG apareçam pelo menos duas vezes não importando a ordem."
   ]
  }
 ],
 "metadata": {
  "kernelspec": {
   "display_name": "Python 3 (ipykernel)",
   "language": "python",
   "name": "python3"
  },
  "language_info": {
   "codemirror_mode": {
    "name": "ipython",
    "version": 3
   },
   "file_extension": ".py",
   "mimetype": "text/x-python",
   "name": "python",
   "nbconvert_exporter": "python",
   "pygments_lexer": "ipython3",
   "version": "3.10.6"
  }
 },
 "nbformat": 4,
 "nbformat_minor": 5
}
