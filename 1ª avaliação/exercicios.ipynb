{
 "cells": [
  {
   "cell_type": "markdown",
   "metadata": {},
   "source": [
    "### Dada uma lista de números reais, faça um mapeamento para obter uma lista de inteiros tal que:\n",
    "\n",
    "- Se o valor decimal for par, obtenha um número inteiro que seja o maior inteiro menor que o número real em análise\n",
    "\n",
    "- Se o valor decimal for ímpar, obtenha um número inteiro que seja o menor inteiro maior que o número real em análise"
   ]
  },
  {
   "cell_type": "code",
   "execution_count": 46,
   "metadata": {},
   "outputs": [
    {
     "name": "stdout",
     "output_type": "stream",
     "text": [
      "[2, 3, 3, 4, 7]\n"
     ]
    }
   ],
   "source": [
    "import math as m\n",
    "\n",
    "def criar_lista_inteiros(lista_reais):\n",
    "    lista_inteiros = []\n",
    "    for numero in lista_reais: # controle de fluxo de repetição\n",
    "        # detectar a parte decimal \n",
    "        x1 = str(numero) # função str para transofrmar o número em string\n",
    "        idx = x1.index('.') # descobrir o índice do ponto\n",
    "        x2 = int(x1[idx+1:]) # transformar o x2, que é string, em inteiro\n",
    "\n",
    "        if x2 % 2 == 0: # controle de fluxo de seleção\n",
    "            lista_inteiros.append(m.floor(numero))\n",
    "        else:\n",
    "            lista_inteiros.append(m.ceil(numero))\n",
    "    return lista_inteiros\n",
    "\n",
    "lista_inteiros = criar_lista_inteiros([2.14, 3.12, 2.5, 3.1, 7.88])\n",
    "print(lista_inteiros)"
   ]
  },
  {
   "cell_type": "markdown",
   "metadata": {},
   "source": [
    "### Dada três listas de números reais, faça um mapeamento para obter uma lista onde cada elemento seja igual a soma do maior e menor elemento de índices correspondentes das três listas"
   ]
  },
  {
   "cell_type": "code",
   "execution_count": 47,
   "metadata": {},
   "outputs": [
    {
     "name": "stdout",
     "output_type": "stream",
     "text": [
      "[8.8, 11.0, 13.2]\n"
     ]
    }
   ],
   "source": [
    "lista1 = [1.1, 2.2, 3.3]\n",
    "lista2 = [4.4, 5.5, 6.6]\n",
    "lista3 = [7.7, 8.8, 9.9]\n",
    "\n",
    "def mapear_listas(lista1, lista2, lista3):\n",
    "    lista_soma = []\n",
    "    for item in zip(lista1, lista2, lista3): # iterar as listas simultaneamente, item é uma tupla (imutável)\n",
    "        aux = [item]\n",
    "        lista_soma.append(max(item) + min(item))\n",
    "    return lista_soma\n",
    "\n",
    "lista_soma = mapear_listas(lista1, lista2, lista3)\n",
    "print(lista_soma)\n"
   ]
  },
  {
   "cell_type": "markdown",
   "metadata": {},
   "source": [
    "### Dada uma lista de números inteiros, construa a lista reversa e faça o filtro para obter somente os elementos que são iguais na lista original"
   ]
  },
  {
   "cell_type": "code",
   "execution_count": 50,
   "metadata": {},
   "outputs": [
    {
     "name": "stdout",
     "output_type": "stream",
     "text": [
      "Lista original: [1, 2, 3, 4, 5]\n",
      "Lista reversa: [5, 4, 3, 2, 1]\n",
      "[3]\n"
     ]
    }
   ],
   "source": [
    "def construir_lista_palindromo(lista):\n",
    "    lista_palindromo = []\n",
    "    for x, y in zip(lista, lista[::-1]):\n",
    "        if x == y:\n",
    "            lista_palindromo.append(x)\n",
    "    print(f\"Lista original: {lista}\")\n",
    "    print(f\"Lista reversa: {lista[::-1]}\")\n",
    "    return lista_palindromo\n",
    "\n",
    "lista_palindromo = construir_lista_palindromo([1, 2, 3, 4, 5])\n",
    "print(lista_palindromo)"
   ]
  },
  {
   "cell_type": "markdown",
   "metadata": {},
   "source": [
    "### Dada uma lista de string, faça uma redução para determinar o tamanho da maior string. Retorne o valor encontrado, a string e o índice da lista que ela está"
   ]
  },
  {
   "cell_type": "code",
   "execution_count": 51,
   "metadata": {},
   "outputs": [
    {
     "name": "stdout",
     "output_type": "stream",
     "text": [
      "{'valor': 'aaaaaa', 'idx': 1, 'tamanho': 6}\n"
     ]
    }
   ],
   "source": [
    "def encontrar_maior_string(lista):\n",
    "    valor = lista[0]\n",
    "    idx = 0\n",
    "    tamanho = len(valor)\n",
    "    dicionario = {\n",
    "            'valor': lista[0],\n",
    "            'idx': 0,\n",
    "            'tamanho': len(lista[0])\n",
    "                }\n",
    "    for item in lista[1:]:\n",
    "        if len(item) > dicionario['tamanho']:\n",
    "            dicionario['valor'] = item\n",
    "            dicionario['idx'] = lista.index(item)\n",
    "            dicionario['tamanho'] = len(item)\n",
    "    return dicionario\n",
    "\n",
    "lista_string = encontrar_maior_string(['a', 'aaaaaa', 'aaa', 'aa'])\n",
    "print(lista_string)\n"
   ]
  }
 ],
 "metadata": {
  "kernelspec": {
   "display_name": "Python 3",
   "language": "python",
   "name": "python3"
  },
  "language_info": {
   "codemirror_mode": {
    "name": "ipython",
    "version": 3
   },
   "file_extension": ".py",
   "mimetype": "text/x-python",
   "name": "python",
   "nbconvert_exporter": "python",
   "pygments_lexer": "ipython3",
   "version": "3.10.4"
  },
  "orig_nbformat": 4
 },
 "nbformat": 4,
 "nbformat_minor": 2
}
