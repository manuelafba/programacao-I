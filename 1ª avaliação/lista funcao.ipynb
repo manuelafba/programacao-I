{
 "cells": [
  {
   "cell_type": "markdown",
   "metadata": {},
   "source": [
    "### Questão 1"
   ]
  },
  {
   "cell_type": "markdown",
   "metadata": {},
   "source": [
    "#### (Falso) Na definição dos parâmetros de uma função, é possível definir parâmetros com argumento default. Para isso, basta realizar uma atribuição simples ou múltipla"
   ]
  },
  {
   "cell_type": "code",
   "execution_count": 1,
   "metadata": {},
   "outputs": [],
   "source": [
    "def exemplo(a, b = 4): # Atribuição simples para b\n",
    "    return a"
   ]
  },
  {
   "cell_type": "markdown",
   "metadata": {},
   "source": [
    "### (Falso) Na definição dos parâmetros de uma função, se nenhum parâmetro tiver valor default definido, então a passagem de argumentos para esses parâmetros é obrigatória"
   ]
  },
  {
   "cell_type": "code",
   "execution_count": 2,
   "metadata": {},
   "outputs": [
    {
     "name": "stdout",
     "output_type": "stream",
     "text": [
      "()\n",
      "A passagem de argumentos não é obrigatória para essa função, pois *n pode receber um número indeterminado de argumentos\n"
     ]
    }
   ],
   "source": [
    "def exemplo(*n):\n",
    "    return n\n",
    "\n",
    "print(exemplo())\n",
    "print(\"A passagem de argumentos não é obrigatória para essa função, pois *n pode receber um número indeterminado de argumentos\")\n",
    "\n"
   ]
  },
  {
   "attachments": {},
   "cell_type": "markdown",
   "metadata": {},
   "source": [
    "#### (Verdadeiro) Os parâmetros de uma função são utilizados para armazenar os argumentos que são passados para a função. Os parâmetros formais, também conhecido como simples, podem receber argumentos na forma posicional ou nomeada por palavra-chave."
   ]
  },
  {
   "attachments": {},
   "cell_type": "markdown",
   "metadata": {},
   "source": [
    "#### (Verdadeiro) O parâmetro de uma função que possui o * precedendo o seu nome, é um parâmetro especial que pode receber um número indeterminado de argumentos. Ao passar argumentos para esse parâmetro, só é possível utilizar a forma posicional."
   ]
  },
  {
   "cell_type": "code",
   "execution_count": 3,
   "metadata": {},
   "outputs": [
    {
     "ename": "TypeError",
     "evalue": "exemplo() got an unexpected keyword argument 'a'",
     "output_type": "error",
     "traceback": [
      "\u001b[1;31m---------------------------------------------------------------------------\u001b[0m",
      "\u001b[1;31mTypeError\u001b[0m                                 Traceback (most recent call last)",
      "Cell \u001b[1;32mIn[3], line 4\u001b[0m\n\u001b[0;32m      1\u001b[0m \u001b[39mdef\u001b[39;00m \u001b[39mexemplo\u001b[39m(\u001b[39m*\u001b[39ma):\n\u001b[0;32m      2\u001b[0m     \u001b[39mreturn\u001b[39;00m a\n\u001b[1;32m----> 4\u001b[0m \u001b[39mprint\u001b[39m(exemplo(a \u001b[39m=\u001b[39;49m \u001b[39m6\u001b[39;49m)) \u001b[39m# Passando argumento de forma norminal\u001b[39;00m\n",
      "\u001b[1;31mTypeError\u001b[0m: exemplo() got an unexpected keyword argument 'a'"
     ]
    }
   ],
   "source": [
    "def exemplo(*a):\n",
    "    return a\n",
    "\n",
    "print(exemplo(a = 6)) # Passando argumento de forma norminal"
   ]
  },
  {
   "attachments": {},
   "cell_type": "markdown",
   "metadata": {},
   "source": [
    "#### (Falso) Na definição dos parâmetros de uma função, só se pode definir parâmetros com argumentos default após a definição dos parâmetros formais ou do parâmetro especial que possui o * precedendo o seu nome."
   ]
  },
  {
   "cell_type": "code",
   "execution_count": null,
   "metadata": {},
   "outputs": [
    {
     "name": "stdout",
     "output_type": "stream",
     "text": [
      "(2, ())\n"
     ]
    }
   ],
   "source": [
    "def exemplo(a = 3,  *b):\n",
    "    return a, b\n",
    "\n",
    "print(exemplo(2))\n",
    "print(\"A função não retornou um erro, mas o parâmetro *b não foi usado\")"
   ]
  },
  {
   "attachments": {},
   "cell_type": "markdown",
   "metadata": {},
   "source": [
    "#### (Falso) Os parâmetros de uma função são utilizados para armazenar os argumentos que são passados para a função. Ao utilizar uma função, o número de argumentos passados para a função deve ser igual ao número de parâmetros da função."
   ]
  },
  {
   "cell_type": "code",
   "execution_count": null,
   "metadata": {},
   "outputs": [
    {
     "name": "stdout",
     "output_type": "stream",
     "text": [
      "(2, 3)\n",
      "6\n",
      "Não é necessário ter o mesmo número de argumetos passados no caso de um parâmetro com argumento default ou especial\n"
     ]
    }
   ],
   "source": [
    "def exemplo(*a):\n",
    "    return a\n",
    "\n",
    "print(exemplo(2, 3))\n",
    "\n",
    "def exemplo2(a = 6):\n",
    "    return a\n",
    "\n",
    "print(exemplo2())\n",
    "\n",
    "print(\"Não é necessário ter o mesmo número de argumentos passados no caso de um parâmetro com argumento default ou especial\")\n"
   ]
  },
  {
   "attachments": {},
   "cell_type": "markdown",
   "metadata": {},
   "source": [
    "#### (Verdadeiro) Na definição dos parâmetros de uma função, se um parâmetro tiver valor default definido, então a passagem de argumento para esse parâmetro é opcional, podendo ser feita de forma posicional ou nomeada por palavra-chave."
   ]
  },
  {
   "cell_type": "code",
   "execution_count": null,
   "metadata": {},
   "outputs": [
    {
     "name": "stdout",
     "output_type": "stream",
     "text": [
      "7\n",
      "7\n"
     ]
    }
   ],
   "source": [
    "def exemplo(a = 4):\n",
    "    return a\n",
    "print(exemplo(7))\n",
    "\n",
    "def exemplo2(a = 4):\n",
    "    return a\n",
    "print(exemplo2(a = 7))"
   ]
  },
  {
   "attachments": {},
   "cell_type": "markdown",
   "metadata": {},
   "source": [
    "#### (Verdadeiro) Na definição dos parâmetros de uma função, é sempre necessário que os parâmetros tenham nomes distintos, considerando a diferença entre caixa alta e caixa baixa. Ou seja, valor é diferente de VALOR, por exemplo."
   ]
  },
  {
   "cell_type": "code",
   "execution_count": null,
   "metadata": {},
   "outputs": [
    {
     "name": "stdout",
     "output_type": "stream",
     "text": [
      "(2, 4)\n"
     ]
    }
   ],
   "source": [
    "def exemplo(valor, VALOR):\n",
    "    return valor, VALOR\n",
    "\n",
    "print(exemplo(2, 4))\n",
    "\n",
    "def exemplo2(valor, valor):\n",
    "    return valor, valor\n",
    "\n",
    "print(exemplo2(2, 5))\n"
   ]
  },
  {
   "cell_type": "markdown",
   "metadata": {},
   "source": [
    "### Questão 2"
   ]
  },
  {
   "attachments": {},
   "cell_type": "markdown",
   "metadata": {},
   "source": [
    "#### (Verdadeiro) Ao chamar uma função, se necessário, devemos passar os seus argumentos. Na passagem de argumentos, podemos passar qualquer informação, independentemente do tipo."
   ]
  },
  {
   "cell_type": "code",
   "execution_count": null,
   "metadata": {},
   "outputs": [
    {
     "name": "stdout",
     "output_type": "stream",
     "text": [
      "vvv\n",
      "Podemos passar qualquer tipo de informação para a função, mesmo se ela retornar um erro. A função acima recebe um inteiro e a de baixo recebe uma string, retornando um erro pois não podemos multiplicar duas strings\n"
     ]
    },
    {
     "ename": "TypeError",
     "evalue": "can't multiply sequence by non-int of type 'str'",
     "output_type": "error",
     "traceback": [
      "\u001b[1;31m---------------------------------------------------------------------------\u001b[0m",
      "\u001b[1;31mTypeError\u001b[0m                                 Traceback (most recent call last)",
      "Cell \u001b[1;32mIn[16], line 8\u001b[0m\n\u001b[0;32m      6\u001b[0m \u001b[39mdef\u001b[39;00m \u001b[39mexemplo2\u001b[39m(a):\n\u001b[0;32m      7\u001b[0m     \u001b[39mreturn\u001b[39;00m \u001b[39m'\u001b[39m\u001b[39mv\u001b[39m\u001b[39m'\u001b[39m \u001b[39m*\u001b[39m a\n\u001b[1;32m----> 8\u001b[0m \u001b[39mprint\u001b[39m(exemplo(\u001b[39m'\u001b[39;49m\u001b[39ma\u001b[39;49m\u001b[39m'\u001b[39;49m))\n",
      "Cell \u001b[1;32mIn[16], line 2\u001b[0m, in \u001b[0;36mexemplo\u001b[1;34m(a)\u001b[0m\n\u001b[0;32m      1\u001b[0m \u001b[39mdef\u001b[39;00m \u001b[39mexemplo\u001b[39m(a):\n\u001b[1;32m----> 2\u001b[0m     \u001b[39mreturn\u001b[39;00m \u001b[39m'\u001b[39;49m\u001b[39mv\u001b[39;49m\u001b[39m'\u001b[39;49m \u001b[39m*\u001b[39;49m a\n",
      "\u001b[1;31mTypeError\u001b[0m: can't multiply sequence by non-int of type 'str'"
     ]
    }
   ],
   "source": [
    "def exemplo(a):\n",
    "    return 'v' * a\n",
    "print(exemplo(3))\n",
    "print(\"Podemos passar qualquer tipo de informação para a função, mesmo se ela retornar um erro. A função acima recebe um inteiro e a de baixo recebe uma string, retornando um erro pois não podemos multiplicar duas strings\")\n",
    "\n",
    "def exemplo2(a):\n",
    "    return 'v' * a\n",
    "print(exemplo('a'))"
   ]
  },
  {
   "attachments": {},
   "cell_type": "markdown",
   "metadata": {},
   "source": [
    "#### (Verdadeiro) Ao chamar uma função, podemos passar argumentos de forma posicional ou nomeada por palavra-chave. Se as duas estratégias forem utilizadas, então todas as passagens por palavra-chave devem vir depois das passagens posicionais"
   ]
  },
  {
   "cell_type": "code",
   "execution_count": null,
   "metadata": {},
   "outputs": [
    {
     "ename": "SyntaxError",
     "evalue": "non-default argument follows default argument (982535837.py, line 1)",
     "output_type": "error",
     "traceback": [
      "\u001b[1;36m  Cell \u001b[1;32mIn[48], line 1\u001b[1;36m\u001b[0m\n\u001b[1;33m    def exemplo(a = 4, b):\u001b[0m\n\u001b[1;37m                       ^\u001b[0m\n\u001b[1;31mSyntaxError\u001b[0m\u001b[1;31m:\u001b[0m non-default argument follows default argument\n"
     ]
    }
   ],
   "source": [
    "def exemplo(a = 4, b):\n",
    "    return a, b"
   ]
  },
  {
   "attachments": {},
   "cell_type": "markdown",
   "metadata": {},
   "source": [
    "#### (Falso) Na passagem de argumentos nomeado por palavra-chave, a ordem dos argumentos não é importante. Logo, na mesma chamada da função, podemos passar mais de um argumento para o mesmo parâmetro formal, também conhecido como simples"
   ]
  },
  {
   "cell_type": "code",
   "execution_count": null,
   "metadata": {},
   "outputs": [
    {
     "ename": "TypeError",
     "evalue": "exemplo() takes from 0 to 2 positional arguments but 3 were given",
     "output_type": "error",
     "traceback": [
      "\u001b[1;31m---------------------------------------------------------------------------\u001b[0m",
      "\u001b[1;31mTypeError\u001b[0m                                 Traceback (most recent call last)",
      "\u001b[1;32mUntitled-1.ipynb Cell 23\u001b[0m line \u001b[0;36m4\n\u001b[0;32m      <a href='vscode-notebook-cell:Untitled-1.ipynb?jupyter-notebook#X34sdW50aXRsZWQ%3D?line=0'>1</a>\u001b[0m \u001b[39mdef\u001b[39;00m \u001b[39mexemplo\u001b[39m(a \u001b[39m=\u001b[39m \u001b[39m3\u001b[39m, b \u001b[39m=\u001b[39m \u001b[39m2\u001b[39m):\n\u001b[0;32m      <a href='vscode-notebook-cell:Untitled-1.ipynb?jupyter-notebook#X34sdW50aXRsZWQ%3D?line=1'>2</a>\u001b[0m     \u001b[39mreturn\u001b[39;00m a, b\n\u001b[1;32m----> <a href='vscode-notebook-cell:Untitled-1.ipynb?jupyter-notebook#X34sdW50aXRsZWQ%3D?line=3'>4</a>\u001b[0m \u001b[39mprint\u001b[39m(exemplo(\u001b[39m4\u001b[39;49m, \u001b[39m5\u001b[39;49m, \u001b[39m7\u001b[39;49m))\n",
      "\u001b[1;31mTypeError\u001b[0m: exemplo() takes from 0 to 2 positional arguments but 3 were given"
     ]
    }
   ],
   "source": [
    "def exemplo(a = 3, b = 2):\n",
    "    return a, b\n",
    "\n",
    "print(exemplo(4, 7, 6)) # Passando mais de um valor para o mesmo parâmetro"
   ]
  },
  {
   "attachments": {},
   "cell_type": "markdown",
   "metadata": {},
   "source": [
    "#### (Falso) Na passagem de argumentos posicionais, o número de argumentos deve coincidir com o número de parâmetros da função."
   ]
  },
  {
   "cell_type": "code",
   "execution_count": null,
   "metadata": {},
   "outputs": [
    {
     "name": "stdout",
     "output_type": "stream",
     "text": [
      "(2, ())\n",
      "(2, 3)\n",
      "Falso pois podemos ter argumentos defaults ou especiais\n"
     ]
    }
   ],
   "source": [
    "def exemplo(a, *b):\n",
    "    return a, b\n",
    "\n",
    "print(exemplo(2))\n",
    "\n",
    "def exemplo2(a, b = 3):\n",
    "    return a, b\n",
    "\n",
    "print(exemplo2(2))\n",
    "print(\"Falso pois podemos ter argumentos defaults ou especiais\")"
   ]
  },
  {
   "attachments": {},
   "cell_type": "markdown",
   "metadata": {},
   "source": [
    "#### (Verdadeiro) Na passagem de argumentos nomeado por palavra-chave, se um argumento for passado para um parâmetro que possui valor default, o argumento passado sobrescreve o valor default desse parâmetro."
   ]
  },
  {
   "cell_type": "code",
   "execution_count": null,
   "metadata": {},
   "outputs": [
    {
     "name": "stdout",
     "output_type": "stream",
     "text": [
      "5\n"
     ]
    }
   ],
   "source": [
    "def exemplo(a = 3):\n",
    "    return a\n",
    "\n",
    "print(exemplo(5))"
   ]
  },
  {
   "attachments": {},
   "cell_type": "markdown",
   "metadata": {},
   "source": [
    "#### (Falso) Na passagem de argumentos, uma função que possui parâmetros pode não receber argumentos. Nesse caso, é necessário que os parâmetros sejam especiais com o * precedendo os seus nomes"
   ]
  },
  {
   "cell_type": "code",
   "execution_count": 4,
   "metadata": {},
   "outputs": [
    {
     "name": "stdout",
     "output_type": "stream",
     "text": [
      "3\n",
      "A função não está recebendo argumentos e ainda retorna um valor pois tem um parâmetro com valor default. Não é obrigatório utilizar parâmetros especiais\n"
     ]
    }
   ],
   "source": [
    "def exemplo(a = 3):\n",
    "    return a\n",
    "\n",
    "print(exemplo())\n",
    "print(\"A função não está recebendo argumentos e ainda retorna um valor pois tem um parâmetro com valor default. Não é obrigatório utilizar parâmetros especiais\")"
   ]
  },
  {
   "attachments": {},
   "cell_type": "markdown",
   "metadata": {},
   "source": [
    "#### (Falso) Na passagem de argumentos, os argumentos passados da forma posicional para o parâmetro especial com o * precedendo o seu nome são armazenados em uma tupla. Na linguagem Python, uma tupla é uma coleção imutável onde os elementos devem ficar entre chaves"
   ]
  },
  {
   "cell_type": "code",
   "execution_count": 5,
   "metadata": {},
   "outputs": [
    {
     "name": "stdout",
     "output_type": "stream",
     "text": [
      "(2, 3)\n",
      "De fato, são armazenados em uma tupla. Mas os elementos da tupla devem ficar entre parênteses\n"
     ]
    }
   ],
   "source": [
    "def exemplo(*a):\n",
    "    return a\n",
    "\n",
    "print(exemplo(2, 3))\n",
    "print(\"De fato, são armazenados em uma tupla. Mas os elementos da tupla devem ficar entre parênteses\")\n"
   ]
  },
  {
   "cell_type": "markdown",
   "metadata": {},
   "source": [
    "### Questão 3"
   ]
  },
  {
   "attachments": {},
   "cell_type": "markdown",
   "metadata": {},
   "source": [
    "#### (Verdadeiro) Ao definir uma função, podemos declarar mais de um retorno. Porém, toda vez que a função for chamada para execução, somente um retorno é executado, uma vez que o retorno sempre interrompe o fluxo de execução da função."
   ]
  },
  {
   "cell_type": "code",
   "execution_count": 6,
   "metadata": {},
   "outputs": [
    {
     "name": "stdout",
     "output_type": "stream",
     "text": [
      "3\n",
      "Apenas o valor a foi retonado, pois era o primeiro retorno\n"
     ]
    }
   ],
   "source": [
    "def exemplo(a = 3, b = 4):\n",
    "    return a\n",
    "    return b\n",
    "\n",
    "print(exemplo())\n",
    "print(\"Apenas o valor a foi retonado, pois era o primeiro retorno\")"
   ]
  },
  {
   "attachments": {},
   "cell_type": "markdown",
   "metadata": {},
   "source": [
    "#### (Falso) No retorno de uma função, é possível retornar valores armazenados em diferentes variáveis. Para isso, basta separar cada variável por vírgula. Quando este for o caso, na chamada da função, deve-se utilizar a atribuição múltipla para receber os valores retornados."
   ]
  },
  {
   "cell_type": "code",
   "execution_count": 7,
   "metadata": {},
   "outputs": [
    {
     "name": "stdout",
     "output_type": "stream",
     "text": [
      "(3, 4)\n",
      "Não é obrigatório utilizar a atribuição múltipla.\n"
     ]
    }
   ],
   "source": [
    "def exemplo(a = 3, b = 4):\n",
    "    return a, b\n",
    "\n",
    "resposta = exemplo() # Atribuição simples\n",
    "print(resposta)\n",
    "print(\"Não é obrigatório utilizar a atribuição múltipla.\")"
   ]
  },
  {
   "attachments": {},
   "cell_type": "markdown",
   "metadata": {},
   "source": [
    "#### (Verdadeiro) Se uma função não possuir retorno definido, então ela é uma função que retorna None e, por isso, é denominada como void."
   ]
  },
  {
   "cell_type": "code",
   "execution_count": 8,
   "metadata": {},
   "outputs": [
    {
     "name": "stdout",
     "output_type": "stream",
     "text": [
      "None\n"
     ]
    }
   ],
   "source": [
    "def exemplo(a = 3):\n",
    "    return\n",
    "\n",
    "print(exemplo())"
   ]
  },
  {
   "attachments": {},
   "cell_type": "markdown",
   "metadata": {},
   "source": [
    "#### (Verdadeiro) Ao definir uma função, podemos declarar um retorno sem especificar o valor a ser retornado. Nesse caso, a palavra reservada return é utilizada exclusivamente para interromper o fluxo de execução da função"
   ]
  },
  {
   "cell_type": "markdown",
   "metadata": {},
   "source": [
    "Como visto no exemplo anterior, a função não tem retorno com valor específico e retorna None"
   ]
  },
  {
   "attachments": {},
   "cell_type": "markdown",
   "metadata": {},
   "source": [
    "#### (Verdadeiro) Ao definir uma função, se você precisar retornar valores armazenados em diferentes variáveis, você pode construir e retornar uma lista com os valores armazenados nas variáveis."
   ]
  },
  {
   "cell_type": "code",
   "execution_count": 9,
   "metadata": {},
   "outputs": [
    {
     "name": "stdout",
     "output_type": "stream",
     "text": [
      "[10, 5, 8]\n"
     ]
    }
   ],
   "source": [
    "def exemplo(a = 10, b = 5, c = 8):\n",
    "\n",
    "    lista_resultado = [a, b, c]\n",
    "    return lista_resultado\n",
    "\n",
    "print(exemplo())"
   ]
  },
  {
   "attachments": {},
   "cell_type": "markdown",
   "metadata": {},
   "source": [
    "#### (Verdadeiro) Ao definir uma função, o retorno representa a saída da função. Ou seja, quando a função for chamada, a variável que recebe a atribuição da função sempre armazena o valor retornado."
   ]
  },
  {
   "cell_type": "code",
   "execution_count": 10,
   "metadata": {},
   "outputs": [
    {
     "name": "stdout",
     "output_type": "stream",
     "text": [
      "8\n"
     ]
    }
   ],
   "source": [
    "def exemplo(a = 3, b = 5):\n",
    "    return a + b\n",
    "\n",
    "resultado = exemplo()\n",
    "print(resultado) # Printar o resultado da função armazenado em \"resultado\""
   ]
  }
 ],
 "metadata": {
  "kernelspec": {
   "display_name": "Python 3",
   "language": "python",
   "name": "python3"
  },
  "language_info": {
   "codemirror_mode": {
    "name": "ipython",
    "version": 3
   },
   "file_extension": ".py",
   "mimetype": "text/x-python",
   "name": "python",
   "nbconvert_exporter": "python",
   "pygments_lexer": "ipython3",
   "version": "3.11.6"
  },
  "vscode": {
   "interpreter": {
    "hash": "7c11e252e9e297ad7afcf0dd37a7160fea22ca9680b4dce8452c9fc252609a1a"
   }
  }
 },
 "nbformat": 4,
 "nbformat_minor": 2
}
