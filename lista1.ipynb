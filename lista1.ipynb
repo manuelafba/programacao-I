{
 "cells": [
  {
   "cell_type": "markdown",
   "metadata": {},
   "source": [
    "### 1) Dada duas listas de strings de mesmo tamanho, faça o mapeamento para obter uma lista em que cada elemento seja a concatenação dos elementos de mesmo índice das duas listas. Retorna a lista resultante"
   ]
  },
  {
   "cell_type": "code",
   "execution_count": 49,
   "metadata": {},
   "outputs": [
    {
     "name": "stdout",
     "output_type": "stream",
     "text": [
      "[('a', 'd'), ('b', 'e'), ('c', 'f')]\n"
     ]
    }
   ],
   "source": [
    "def concatenar_lista(lista1, lista2):\n",
    "    \"\"\"\n",
    "    Construir uma lista para que cada elemento seja a concatenação dos elementos de mesmo índice das duas listas\n",
    "    Argumentos: lista1 e lista2: listas de strings\n",
    "    Retorno: uma lista de strings, cada uma com o elemento de seu índice correspondente\n",
    "    \"\"\"\n",
    "    lista_concatenada = []\n",
    "    for item in zip(lista1, lista2):\n",
    "        lista_concatenada.append(item)\n",
    "    return lista_concatenada\n",
    "\n",
    "lista_concatenada =  concatenar_lista(['a', 'b', 'c'], ['d', 'e', 'f'])\n",
    "print(lista_concatenada)"
   ]
  },
  {
   "cell_type": "code",
   "execution_count": 50,
   "metadata": {},
   "outputs": [
    {
     "name": "stdout",
     "output_type": "stream",
     "text": [
      "[('a', 'd'), ('b', 'e'), ('c', 'f')]\n"
     ]
    }
   ],
   "source": [
    "def concatenar_lista(lista1, lista2):\n",
    "    return [item for item in zip(lista1, lista2)]\n",
    "\n",
    "lista_concatenada =  concatenar_lista(['a', 'b', 'c'], ['d', 'e', 'f'])\n",
    "print(lista_concatenada)"
   ]
  },
  {
   "cell_type": "markdown",
   "metadata": {},
   "source": [
    "### 2) Dada uma lista de números inteiros, faça o mapeamento para obter uma lista de números primos. Cada elemento da lista deve ser igual ao menor número primo maior que o elemento corrente da lista.\n"
   ]
  },
  {
   "cell_type": "code",
   "execution_count": 51,
   "metadata": {},
   "outputs": [],
   "source": [
    "def detectar_numero_primo(numero):\n",
    "    for divisor in range(2, numero):\n",
    "        if (numero % divisor == 0):\n",
    "            return False\n",
    "    return True\n",
    "    \n",
    "def calcular_proximo_primo(lista):\n",
    "    item += 1\n",
    "    while not detectar_numero_primo(item):\n",
    "        item += 1\n",
    "    return item\n",
    "\n",
    "def construir_lista_primos(lista):\n",
    "    return [calcular_proximo_primo(item) for item in lista]\n",
    "    \n",
    "        "
   ]
  },
  {
   "cell_type": "markdown",
   "metadata": {},
   "source": [
    "### 3) Dada uma lista de string, faça um filtro para obter uma lista somente com os elementos cujo tamanho da string seja menor que 10. A lista resultante deve estar ordenada em ordem alfabética. Retorna a lista resultante.\n"
   ]
  },
  {
   "cell_type": "code",
   "execution_count": 52,
   "metadata": {},
   "outputs": [
    {
     "name": "stdout",
     "output_type": "stream",
     "text": [
      "['a', 'bb', 'cccccc']\n"
     ]
    }
   ],
   "source": [
    "def filtrar_strings(lista):\n",
    "    \"\"\"\n",
    "    Construir uma lista de strings em ordem alfabética apenas com strings com tamanhos inferiores a 10\n",
    "    Argumento: lista: lista de strings\n",
    "    Retorno: lista de strings\n",
    "    \"\"\"\n",
    "    lista_ordenada = []\n",
    "    for item in lista:\n",
    "        if len(item) < 10:\n",
    "            lista_ordenada.append(item)\n",
    "    lista_ordenada.sort()\n",
    "    return lista_ordenada\n",
    "    \n",
    "lista = filtrar_strings(['AAAAAAAAAAAAAAA', 'cccccc', 'a', 'bb',])\n",
    "print(lista)\n",
    "\n",
    "def filtrar_strings(lista):\n",
    "    return [item for item in lista.sort() if len(item) < 10]\n"
   ]
  },
  {
   "cell_type": "markdown",
   "metadata": {},
   "source": [
    "### 4) Dada uma lista onde cada elemento corresponde a uma outra lista, faça um filtro para obter uma lista onde cada lista interna seja homogênea de números inteiros. Retorna a lista resultante."
   ]
  },
  {
   "cell_type": "code",
   "execution_count": 53,
   "metadata": {},
   "outputs": [
    {
     "name": "stdout",
     "output_type": "stream",
     "text": [
      "[[1, 2], [5]]\n"
     ]
    }
   ],
   "source": [
    "def filtrar_por_tipo(lista, tipo):\n",
    "    \"\"\"\n",
    "    Filtrar uma lista de listas para construir outra lista apenas com inteiros\n",
    "    Argumentos: lista: lista de listas\n",
    "    tipo: inteiro\n",
    "    Retorno: lista filtrada apenas com inteiros\n",
    "    \"\"\"\n",
    "    lista_filtrada = []\n",
    "    for item in lista: \n",
    "        if type(item) == tipo:\n",
    "            lista_filtrada.append(item)\n",
    "    return lista_filtrada\n",
    "\n",
    "def filtrar_inteiros(lista, tipo):\n",
    "    lista_filtrada = []\n",
    "    for item in lista:\n",
    "        lista_filtrada.append(filtrar_por_tipo(item, int))\n",
    "    return lista_filtrada\n",
    "\n",
    "def filtrar_por_tipo2(lista):\n",
    "    return [item for item in lista if type(item) == int]\n",
    "\n",
    "def filtrar_inteiros2(lista):\n",
    "    return [filtrar_por_tipo2(item, int) for item in lista]\n",
    "\n",
    "lista = filtrar_inteiros([[1, 2, 3.3], ['A', 5, '7']], int)\n",
    "print(lista)"
   ]
  },
  {
   "cell_type": "markdown",
   "metadata": {},
   "source": [
    "### 5) Dada uma lista de string e uma lista de números inteiros, faça um filtro para obter uma lista de string onde o tamanho do elemento é menor ou igual ao valor do número inteiro de índice correspondente. Retorna a lista resultante.\n"
   ]
  }
 ],
 "metadata": {
  "kernelspec": {
   "display_name": "Python 3",
   "language": "python",
   "name": "python3"
  },
  "language_info": {
   "codemirror_mode": {
    "name": "ipython",
    "version": 3
   },
   "file_extension": ".py",
   "mimetype": "text/x-python",
   "name": "python",
   "nbconvert_exporter": "python",
   "pygments_lexer": "ipython3",
   "version": "3.10.4"
  },
  "orig_nbformat": 4
 },
 "nbformat": 4,
 "nbformat_minor": 2
}
