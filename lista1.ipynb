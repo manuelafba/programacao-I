{
 "cells": [
  {
   "cell_type": "markdown",
   "metadata": {},
   "source": [
    "### 1) Dada duas listas de strings de mesmo tamanho, faça o mapeamento para obter uma lista em que cada elemento seja a concatenação dos elementos de mesmo índice das duas listas. Retorna a lista resultante"
   ]
  },
  {
   "cell_type": "code",
   "execution_count": 37,
   "metadata": {},
   "outputs": [
    {
     "name": "stdout",
     "output_type": "stream",
     "text": [
      "[('a', 'd'), ('b', 'e'), ('c', 'f')]\n"
     ]
    }
   ],
   "source": [
    "def concatenar_lista(lista1, lista2):\n",
    "    \"\"\"\n",
    "    Construir uma lista para que cada elemento seja a concatenação dos elementos de mesmo índice das duas listas\n",
    "\n",
    "    Argumentos: lista1 e lista2: listas de strings\n",
    "    \n",
    "    Retorno: uma lista de strings, cada uma com o elemento de seu índice correspondente\n",
    "    \"\"\"\n",
    "    lista_concatenada = []\n",
    "    for item in zip(lista1, lista2):\n",
    "        lista_concatenada.append(item)\n",
    "    return lista_concatenada\n",
    "\n",
    "lista_concatenada =  concatenar_lista(['a', 'b', 'c'], ['d', 'e', 'f'])\n",
    "print(lista_concatenada)"
   ]
  },
  {
   "cell_type": "code",
   "execution_count": 38,
   "metadata": {},
   "outputs": [
    {
     "name": "stdout",
     "output_type": "stream",
     "text": [
      "[('a', 'd'), ('b', 'e'), ('c', 'f')]\n"
     ]
    }
   ],
   "source": [
    "def concatenar_lista(lista1, lista2):\n",
    "    return [item for item in zip(lista1, lista2)]\n",
    "\n",
    "lista_concatenada =  concatenar_lista(['a', 'b', 'c'], ['d', 'e', 'f'])\n",
    "print(lista_concatenada)"
   ]
  },
  {
   "cell_type": "markdown",
   "metadata": {},
   "source": [
    "### 2) Dada uma lista de números inteiros, faça o mapeamento para obter uma lista de números primos. Cada elemento da lista deve ser igual ao menor número primo maior que o elemento corrente da lista.\n"
   ]
  },
  {
   "cell_type": "code",
   "execution_count": 39,
   "metadata": {},
   "outputs": [],
   "source": [
    "def detectar_numero_primo(numero):\n",
    "    for divisor in range(2, numero):\n",
    "        if (numero % divisor == 0):\n",
    "            return False\n",
    "    return True\n",
    "    \n",
    "def calcular_proximo_primo(lista):\n",
    "    item += 1\n",
    "    while not detectar_numero_primo(item):\n",
    "        item += 1\n",
    "    return item\n",
    "\n",
    "def construir_lista_primos(lista):\n",
    "    return [calcular_proximo_primo(item) for item in lista]\n",
    "         "
   ]
  },
  {
   "cell_type": "markdown",
   "metadata": {},
   "source": [
    "### 3) Dada uma lista de string, faça um filtro para obter uma lista somente com os elementos cujo tamanho da string seja menor que 10. A lista resultante deve estar ordenada em ordem alfabética. Retorna a lista resultante.\n"
   ]
  },
  {
   "cell_type": "code",
   "execution_count": 40,
   "metadata": {},
   "outputs": [
    {
     "name": "stdout",
     "output_type": "stream",
     "text": [
      "['a', 'bb', 'cccccc']\n"
     ]
    }
   ],
   "source": [
    "def filtrar_strings(lista):\n",
    "    \"\"\"\n",
    "    Construir uma lista de strings em ordem alfabética apenas com strings com tamanhos inferiores a 10\n",
    "\n",
    "    Argumento: lista: lista de strings\n",
    "    \n",
    "    Retorno: lista de strings\n",
    "    \"\"\"\n",
    "    lista_ordenada = []\n",
    "    for item in lista:\n",
    "        if len(item) < 10:\n",
    "            lista_ordenada.append(item)\n",
    "    lista_ordenada.sort()\n",
    "    return lista_ordenada\n",
    "    \n",
    "lista = filtrar_strings(['AAAAAAAAAAAAAAA', 'cccccc', 'a', 'bb',])\n",
    "print(lista)\n",
    "\n",
    "def filtrar_strings(lista):\n",
    "    return [item for item in lista.sort() if len(item) < 10]\n"
   ]
  },
  {
   "cell_type": "markdown",
   "metadata": {},
   "source": [
    "### 4) Dada uma lista onde cada elemento corresponde a uma outra lista, faça um filtro para obter uma lista onde cada lista interna seja homogênea de números inteiros. Retorna a lista resultante."
   ]
  },
  {
   "cell_type": "code",
   "execution_count": 41,
   "metadata": {},
   "outputs": [
    {
     "name": "stdout",
     "output_type": "stream",
     "text": [
      "[[1, 2], [5]]\n"
     ]
    }
   ],
   "source": [
    "def filtrar_por_tipo(lista, tipo):\n",
    "    \"\"\"\n",
    "    Filtrar uma lista de listas para construir outra lista apenas com inteiros\n",
    "\n",
    "    Argumentos: lista: lista de listas\n",
    "    tipo: inteiro\n",
    "    \n",
    "    Retorno: lista filtrada apenas com inteiros\n",
    "    \"\"\"\n",
    "    lista_filtrada = []\n",
    "    for item in lista: \n",
    "        if type(item) == tipo:\n",
    "            lista_filtrada.append(item)\n",
    "    return lista_filtrada\n",
    "\n",
    "def filtrar_inteiros(lista, tipo):\n",
    "    lista_filtrada = []\n",
    "    for item in lista:\n",
    "        lista_filtrada.append(filtrar_por_tipo(item, int))\n",
    "    return lista_filtrada\n",
    "\n",
    "def filtrar_por_tipo2(lista):\n",
    "    return [item for item in lista if type(item) == int]\n",
    "\n",
    "def filtrar_inteiros2(lista):\n",
    "    return [filtrar_por_tipo2(item, int) for item in lista]\n",
    "\n",
    "lista = filtrar_inteiros([[1, 2, 3.3], ['A', 5, '7']], int)\n",
    "print(lista)"
   ]
  },
  {
   "cell_type": "markdown",
   "metadata": {},
   "source": [
    "### 5) Dada uma lista de string e uma lista de números inteiros, faça um filtro para obter uma lista de string onde o tamanho do elemento é menor ou igual ao valor do número inteiro de índice correspondente. Retorna a lista resultante.\n"
   ]
  },
  {
   "cell_type": "code",
   "execution_count": 42,
   "metadata": {},
   "outputs": [
    {
     "name": "stdout",
     "output_type": "stream",
     "text": [
      "['BB', 'CCC']\n"
     ]
    }
   ],
   "source": [
    "def filtrar_strings(lista_strings, lista_inteiros):\n",
    "    \"\"\"\n",
    "    Filtrar uma lista de strings e retornar uma outra lista de strings com elementos onde seus tamanhos são iguais ou menores ao número de índice correspondente em uma lista de inteiros\n",
    "\n",
    "    Argumentos: lista_strings: lista de strings\n",
    "    lista_inteiros: lista de inteiros\n",
    "    \n",
    "    Retorno: lista filtrada de strings\n",
    "    \"\"\"\n",
    "    lista_resultante = []  \n",
    "    for string, tamanho in zip(lista_strings, lista_inteiros):\n",
    "        if len(string) <= tamanho:\n",
    "            lista_resultante.append(string)\n",
    "    return lista_resultante\n",
    "\n",
    "lista_resultante = filtrar_strings(['AAAA', 'BB', 'CCC'], [2, 5, 3])\n",
    "print(lista_resultante)"
   ]
  },
  {
   "cell_type": "code",
   "execution_count": 43,
   "metadata": {},
   "outputs": [
    {
     "name": "stdout",
     "output_type": "stream",
     "text": [
      "['BB', 'CCC']\n"
     ]
    }
   ],
   "source": [
    "def filtrar_strings(lista_strings, lista_inteiros):\n",
    "    return [string for string, tamanho in zip(lista_strings, lista_inteiros) if len(string) <= tamanho]\n",
    "\n",
    "lista_resultante = filtrar_strings(['AAAA', 'BB', 'CCC'], [2, 5, 3])\n",
    "print(lista_resultante)"
   ]
  },
  {
   "attachments": {},
   "cell_type": "markdown",
   "metadata": {},
   "source": [
    "### 6) Dada uma lista onde cada elemento corresponde a uma lista de números inteiros, faça um filtro para obter uma lista de listas onde a soma dos elementos da lista de uma determinada posição é maior que a soma dos elementos da lista da próxima posição. Retorne a lista resultante."
   ]
  },
  {
   "cell_type": "markdown",
   "metadata": {},
   "source": [
    "(rever)\n",
    "def filtrar_lista(lista_de_listas):\n",
    "    lista_resultante = []\n",
    "    \n",
    "    for item in range(len(lista_de_listas) - 1):\n",
    "        soma = sum(lista_de_listas[item])\n",
    "        proxima_soma = sum(lista_de_listas[item + 1])\n",
    "        \n",
    "        if soma > proxima_soma:\n",
    "            lista_resultante.append(lista_de_listas[item])\n",
    "    \n",
    "    return lista_resultante\n",
    "\n",
    "lista_de_lista_inteiros = filtrar_lista([[6, 2, 3], [4, 5, 6], [7, 8, 9]])\n",
    "print(lista_de_lista_inteiros)\n",
    "\n"
   ]
  },
  {
   "attachments": {},
   "cell_type": "markdown",
   "metadata": {},
   "source": [
    "### 7) Dada três listas de números inteiros, faça uma redução para encontrar o menor número resultante da soma dos elementos de índices correspondentes. Retorne o valor encontrado."
   ]
  },
  {
   "cell_type": "code",
   "execution_count": 44,
   "metadata": {},
   "outputs": [
    {
     "name": "stdout",
     "output_type": "stream",
     "text": [
      "12\n"
     ]
    }
   ],
   "source": [
    "def encontrar_menor_soma(lista1, lista2, lista3):\n",
    "    \"\"\"\n",
    "    Encontrar a menor soma entre os elementos de índicescorrespondentes de três listas\n",
    "\n",
    "    Argumentos: lista1, lista2, lista3: lista de números inteiros\n",
    "    \n",
    "    Returno: número inteiros que representa a menor soma entre os elementos correspondentes das listas\n",
    "    \"\"\"\n",
    "    aux = [] #lista auxiliar para guardar as somas\n",
    "    for item in zip(lista1, lista2, lista3):\n",
    "        aux.append(sum(item))\n",
    "    return min(aux)\n",
    "\n",
    "lista = encontrar_menor_soma([1, 2, 3], [4, 5, 6], [7, 8, 9])\n",
    "print(lista)"
   ]
  },
  {
   "cell_type": "code",
   "execution_count": 45,
   "metadata": {},
   "outputs": [
    {
     "name": "stdout",
     "output_type": "stream",
     "text": [
      "12\n"
     ]
    }
   ],
   "source": [
    "def encontrar_menor_soma(lista1, lista2, lista3):\n",
    "    return min(sum(item) for item in zip(lista1, lista2, lista3))\n",
    "\n",
    "lista = encontrar_menor_soma([1, 2, 3], [4, 5, 6], [7, 8, 9])\n",
    "print(lista)"
   ]
  },
  {
   "attachments": {},
   "cell_type": "markdown",
   "metadata": {},
   "source": [
    "### 8) Dada uma lista de string, faça uma redução para determinar o tamanho da maior string. Retorne o valor encontrado e o índice correspondente na lista. Se mais de uma string possuir o maior tamanho, retorne o menor índice."
   ]
  },
  {
   "cell_type": "code",
   "execution_count": 46,
   "metadata": {},
   "outputs": [
    {
     "name": "stdout",
     "output_type": "stream",
     "text": [
      "AAAAA 1\n"
     ]
    }
   ],
   "source": [
    "def detectar_maior_string(lista_strings):\n",
    "    maior_string = lista_strings[0]\n",
    "    indice_maior_string = 0\n",
    "\n",
    "    for indice, item in enumerate(lista_strings):\n",
    "        if len(item) > len(maior_string) or (len(item) == len(maior_string) and indice < indice_maior_string):\n",
    "            maior_string = item\n",
    "            indice_maior_string = indice\n",
    "\n",
    "    return maior_string, indice_maior_string\n",
    "\n",
    "lista_de_strings = [\"AAA\", \"AAAAA\", \"A\", \"AAAAA\"]\n",
    "resultado, indice = detectar_maior_string(lista_de_strings)\n",
    "print(resultado, indice)"
   ]
  },
  {
   "attachments": {},
   "cell_type": "markdown",
   "metadata": {},
   "source": [
    "### 9) Dada uma lista de números reais, faça uma redução que implique na soma dos elementos. O elemento da posição i só pode ser somado se ele for maior que o elemento da posição i+1. Retorne o valor encontrado."
   ]
  },
  {
   "cell_type": "code",
   "execution_count": 47,
   "metadata": {},
   "outputs": [
    {
     "name": "stdout",
     "output_type": "stream",
     "text": [
      "13\n"
     ]
    }
   ],
   "source": [
    "def somar_reais(lista_reais):\n",
    "    \"\"\"\n",
    "    Somar os elementos de uma lista de reais. Serão somados apenas os números que são maiores do que o número na próxima posição.\n",
    "\n",
    "    Argumentos: lista_reais: uma lista de números reais\n",
    "    \n",
    "    Retorno: soma dos elementos que atendem à condição proposta\n",
    "    \"\"\"\n",
    "    soma = 0\n",
    "\n",
    "    for i in range(len(lista_reais) - 1):\n",
    "        if lista_reais[i] > lista_reais[i + 1]:\n",
    "            soma += lista_reais[i]\n",
    "\n",
    "    soma += lista_reais[-1] # adicionar o último elemento\n",
    "    return soma\n",
    "\n",
    "soma = somar_reais([1.5, 2, 7, 5, 1])\n",
    "print(soma)\n"
   ]
  },
  {
   "cell_type": "code",
   "execution_count": 48,
   "metadata": {},
   "outputs": [
    {
     "name": "stdout",
     "output_type": "stream",
     "text": [
      "13\n"
     ]
    }
   ],
   "source": [
    "def somar_reais(lista_reais):    \n",
    "    return sum([lista_reais[i] for i in range(len(lista_reais) - 1) if lista_reais[i] > lista_reais[i + 1]] + [lista_reais[-1]])\n",
    "\n",
    "soma = somar_reais([1.5, 2, 7, 5, 1])\n",
    "print(soma)"
   ]
  },
  {
   "attachments": {},
   "cell_type": "markdown",
   "metadata": {},
   "source": [
    "### 10) Dada uma lista de string, faça uma redução que resulte em uma string concatenando todos os elementos separados por vírgula e espaço em branco. Retorne o valor encontrado."
   ]
  },
  {
   "cell_type": "code",
   "execution_count": 49,
   "metadata": {},
   "outputs": [
    {
     "name": "stdout",
     "output_type": "stream",
     "text": [
      "AAAAAAAA, BBBBBB, CCCCCCCC\n"
     ]
    }
   ],
   "source": [
    "def concatenar_strings(lista_strings):\n",
    "    \"\"\"\n",
    "    Concatenar uma lista de strings em uma única string, separando cada elemento por vírgula e espaço\n",
    "\n",
    "    Argumentos: lista_strings: uma lista de strings \n",
    "    \n",
    "    Retorno: uma string resultante da concatenação das strings da lista, separadas por vírgula e espaço\n",
    "    \"\"\"\n",
    "    string_resultante = \", \".join(lista_strings)\n",
    "    return string_resultante\n",
    "\n",
    "string_resultante = concatenar_strings([\"AAAAAAAA\", \"BBBBBB\", \"CCCCCCCC\"])\n",
    "print(string_resultante)"
   ]
  },
  {
   "cell_type": "code",
   "execution_count": 50,
   "metadata": {},
   "outputs": [
    {
     "name": "stdout",
     "output_type": "stream",
     "text": [
      "AAAAAAAA, BBBBBB, CCCCCCCC\n"
     ]
    }
   ],
   "source": [
    "def concatenar_strings(lista_strings):\n",
    "    return \", \".join([item for item in lista_strings])\n",
    "\n",
    "string_resultante = concatenar_strings([\"AAAAAAAA\", \"BBBBBB\", \"CCCCCCCC\"])\n",
    "print(string_resultante)"
   ]
  },
  {
   "attachments": {},
   "cell_type": "markdown",
   "metadata": {},
   "source": [
    "### 11) Dada uma lista de números inteiros, faça uma redução para retornar o índice do maior primo da lista. Caso não exista, retorne -1"
   ]
  },
  {
   "cell_type": "code",
   "execution_count": 51,
   "metadata": {},
   "outputs": [
    {
     "name": "stdout",
     "output_type": "stream",
     "text": [
      "(23, 3)\n"
     ]
    }
   ],
   "source": [
    "def verificar_primo(numero):\n",
    "    if numero < 2:\n",
    "        return False\n",
    "    for i in range(2, numero):\n",
    "        if numero % i == 0:\n",
    "            return False\n",
    "    return True\n",
    "\n",
    "def detectar_indice_maior_primo(lista_numeros):\n",
    "    \"\"\"\n",
    "    Encontrar o índice do maior número primo em uma lista e retornar -1 caso não exista\n",
    "\n",
    "    Argumentos: lista_numeros: uma lista de números inteiros\n",
    "    \n",
    "    Retorno: uma tupla contendo o maior número primo encontrado e seu índice. O retorno será (-1, -1) caso nenhum número primo for detectado\n",
    "    \"\"\"\n",
    "    maior_primo = -1 \n",
    "    indice = -1 # retornar -1 no caso de nenhum primo\n",
    "\n",
    "    for idx, numero in enumerate(lista_numeros):\n",
    "        if verificar_primo(numero) and numero > maior_primo:\n",
    "            maior_primo = numero\n",
    "            indice = idx\n",
    "    \n",
    "    return maior_primo, indice\n",
    "\n",
    "resultado = detectar_indice_maior_primo([2, 5, 8, 23, 9])\n",
    "print(resultado)"
   ]
  },
  {
   "attachments": {},
   "cell_type": "markdown",
   "metadata": {},
   "source": [
    "### 12) Dada uma lista de números reais, faça uma redução para calcular o desvio padrão. Retorne o valor encontrado"
   ]
  },
  {
   "cell_type": "code",
   "execution_count": 52,
   "metadata": {},
   "outputs": [
    {
     "name": "stdout",
     "output_type": "stream",
     "text": [
      "2.0141685629559407\n"
     ]
    }
   ],
   "source": [
    "import math as m\n",
    "\n",
    "def calcular_desvio_padrao(lista_reais):\n",
    "    \"\"\"\n",
    "    Calcular o desvio padrão de uma lista de números reais\n",
    "\n",
    "    Argumentos: lista_reais: uma lista de números reais\n",
    "    \n",
    "    Retorno: o desvio padrão dos números\n",
    "    \"\"\"\n",
    "    media = sum(lista_reais) / len(lista_reais) # calcular média dos dados\n",
    "    soma_diferenca_quadrados = sum((numero - media) ** 2 for numero in lista_reais) # subtrair cada valor da lista pela média, elevar ao quadrado e somar todos os valores\n",
    "    divisao = soma_diferenca_quadrados / len(lista_reais) # dividir o resultado da soma pela quantidade de números\n",
    "    desvio = m.sqrt(divisao) # tirar a raiz quadrada do resultado da divisão\n",
    "\n",
    "    return desvio\n",
    "\n",
    "desvio_padrao = calcular_desvio_padrao([2.5, 6.9, 5.3, 7.8])\n",
    "print(desvio_padrao)"
   ]
  },
  {
   "attachments": {},
   "cell_type": "markdown",
   "metadata": {},
   "source": [
    "### 13) Dada uma lista de números inteiros, e um número a ser buscado. Crie uma função que faça uma busca linear do elemento e retorne quantas comparações foram necessárias, bem como true ou false para informar se a busca foi realizada com sucesso ou não."
   ]
  },
  {
   "cell_type": "code",
   "execution_count": 56,
   "metadata": {},
   "outputs": [
    {
     "name": "stdout",
     "output_type": "stream",
     "text": [
      "True, 3 comparações\n"
     ]
    }
   ],
   "source": [
    "def buscar_linearmente(lista_inteiros, numero_buscado):\n",
    "    \"\"\"\n",
    "    Realizar uma busca linear em uma lista de números inteiros\n",
    "\n",
    "    Argumentos: lista_inteiros: uma lista de números inteiros \n",
    "    numero_buscado: o número a ser buscado na lista\n",
    "    \n",
    "    Retorno: comparacoes: o número total de comparações realizadas durante a busca até o número ser encontrado\n",
    "    True se o elemento foi encontrado, caso contrário, o retorno será False\n",
    "    \"\"\"\n",
    "    comparacoes = 0\n",
    "    for numero in lista_inteiros:\n",
    "        comparacoes += 1\n",
    "        if numero == numero_buscado:\n",
    "            return comparacoes, True\n",
    "\n",
    "    return comparacoes, False\n",
    "        \n",
    "comparacoes, resultado = buscar_linearmente([1, 2, 4, 9, 3, 5], 4)\n",
    "print(f\"{resultado}, {comparacoes} comparações\")"
   ]
  },
  {
   "attachments": {},
   "cell_type": "markdown",
   "metadata": {},
   "source": [
    "### 14) Dada uma lista de números inteiros, e um número a ser buscado. Crie uma função que ordene a lista e faça uma busca linear do elemento e retorne quantas comparações foram necessárias, bem como true ou false para informar se a busca foi realizada com sucesso ou não"
   ]
  },
  {
   "cell_type": "code",
   "execution_count": 57,
   "metadata": {},
   "outputs": [
    {
     "name": "stdout",
     "output_type": "stream",
     "text": [
      "True, 4 comparações\n"
     ]
    }
   ],
   "source": [
    "def buscar_linearmente_lista_ordenada(lista_inteiros, numero_buscado):\n",
    "    \"\"\"\n",
    "    Realizar uma busca linear em uma lista ordenada de números inteiros\n",
    "\n",
    "    Argumentos: lista_inteiros: uma lista de números inteiros que será ordenada\n",
    "    numero_buscado: o número a ser buscado na lista\n",
    "    \n",
    "    Retorno: comparacoes: o número total de comparações realizadas durante a busca até o número ser encontrado\n",
    "    True se o elemento foi encontrado, caso contrário, o retorno será False\n",
    "    \"\"\"\n",
    "    comparacoes = 0\n",
    "    for numero in sorted(lista_inteiros):\n",
    "        comparacoes += 1\n",
    "        if numero == numero_buscado:\n",
    "            return comparacoes, True\n",
    "\n",
    "    return comparacoes, False\n",
    "        \n",
    "comparacoes, resultado = buscar_linearmente_lista_ordenada([1, 2, 4, 9, 3, 5], 4)\n",
    "print(f\"{resultado}, {comparacoes} comparações\")"
   ]
  },
  {
   "attachments": {},
   "cell_type": "markdown",
   "metadata": {},
   "source": [
    "###  15) Dada uma lista de números inteiros, e um número a ser buscado. Crie uma função que ordene a lista e faça uma busca binária do elemento e retorne quantas comparações foram necessárias, bem como true ou false para informar se a busca foi realizada com sucesso ou não"
   ]
  },
  {
   "cell_type": "code",
   "execution_count": 59,
   "metadata": {},
   "outputs": [
    {
     "name": "stdout",
     "output_type": "stream",
     "text": [
      "True, 3 comparações\n"
     ]
    }
   ],
   "source": [
    "def busca_binaria(lista_inteiros, numero_buscado):\n",
    "    \"\"\"\n",
    "    Realizar uma busca binária em uma lista ordenada de números inteiros\n",
    "\n",
    "    Argumentos: lista_inteiros: uma lista de números inteiros que será ordenada\n",
    "    numero_buscado: o número a ser buscado na lista\n",
    "    \n",
    "    Retorno: comparacoes: o número total de comparações realizadas durante a busca até o número ser encontrado\n",
    "    True se o elemento foi encontrado, caso contrário, o retorno será False\n",
    "    \"\"\"\n",
    "    lista_ordenada = sorted(lista_inteiros)\n",
    "    comparacoes = 0\n",
    "    inicio, fim = 0, len(lista_ordenada) - 1\n",
    "\n",
    "    while inicio <= fim:\n",
    "        meio = (inicio + fim) // 2\n",
    "        numero_meio = lista_ordenada[meio]\n",
    "        comparacoes += 1\n",
    "\n",
    "        if numero_meio == numero_buscado:\n",
    "            return comparacoes, True\n",
    "        elif numero_meio > numero_buscado:\n",
    "            fim = meio - 1\n",
    "        else:\n",
    "            inicio = meio + 1\n",
    "\n",
    "    return comparacoes, False\n",
    "\n",
    "comparacoes, resultado = busca_binaria([1, 2, 4, 9, 3, 5], 4)\n",
    "print(f\"{resultado}, {comparacoes} comparações\")\n"
   ]
  }
 ],
 "metadata": {
  "kernelspec": {
   "display_name": "Python 3",
   "language": "python",
   "name": "python3"
  },
  "language_info": {
   "codemirror_mode": {
    "name": "ipython",
    "version": 3
   },
   "file_extension": ".py",
   "mimetype": "text/x-python",
   "name": "python",
   "nbconvert_exporter": "python",
   "pygments_lexer": "ipython3",
   "version": "3.11.6"
  },
  "orig_nbformat": 4,
  "vscode": {
   "interpreter": {
    "hash": "7c11e252e9e297ad7afcf0dd37a7160fea22ca9680b4dce8452c9fc252609a1a"
   }
  }
 },
 "nbformat": 4,
 "nbformat_minor": 2
}
